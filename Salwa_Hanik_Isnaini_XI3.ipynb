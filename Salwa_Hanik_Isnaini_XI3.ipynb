{
  "nbformat": 4,
  "nbformat_minor": 0,
  "metadata": {
    "colab": {
      "provenance": [],
      "authorship_tag": "ABX9TyMC8EBkdvZ2c9Cuyyr7C7nN",
      "include_colab_link": true
    },
    "kernelspec": {
      "name": "python3",
      "display_name": "Python 3"
    },
    "language_info": {
      "name": "python"
    }
  },
  "cells": [
    {
      "cell_type": "markdown",
      "metadata": {
        "id": "view-in-github",
        "colab_type": "text"
      },
      "source": [
        "<a href=\"https://colab.research.google.com/github/salwaisnar-dev/KKA-IX-Semester-1/blob/main/Salwa_Hanik_Isnaini_XI3.ipynb\" target=\"_parent\"><img src=\"https://colab.research.google.com/assets/colab-badge.svg\" alt=\"Open In Colab\"/></a>"
      ]
    },
    {
      "cell_type": "markdown",
      "source": [
        "Nama: Salwa Hanik Isnaini\n",
        "\n",
        "Kelas: XI.3\n",
        "\n",
        "No Absen: 28"
      ],
      "metadata": {
        "id": "hXgNKIWFVOZ0"
      }
    },
    {
      "cell_type": "markdown",
      "source": [
        "#Menampilkan Sring (Teks Bebas)"
      ],
      "metadata": {
        "id": "dmwNQcI4Vl6K"
      }
    },
    {
      "cell_type": "code",
      "source": [
        "print(\"Salwa Hanik Isnaini\")"
      ],
      "metadata": {
        "colab": {
          "base_uri": "https://localhost:8080/"
        },
        "id": "Dd9E-N8xWJ3_",
        "outputId": "ff0f7dec-a674-475c-8eda-6a9929b50fea"
      },
      "execution_count": null,
      "outputs": [
        {
          "output_type": "stream",
          "name": "stdout",
          "text": [
            "Salwa Hanik Isnaini\n"
          ]
        }
      ]
    },
    {
      "cell_type": "markdown",
      "source": [
        "#Menampilkan Nilai Variabel"
      ],
      "metadata": {
        "id": "ZRZC7Q2zWcSf"
      }
    },
    {
      "cell_type": "code",
      "source": [
        "Nama = \"Salwa Hanik Isnaini\"\n",
        "\n",
        "Usia = 16\n",
        "\n",
        "Tinggi_badan = 147\n",
        "\n",
        "Berat_badan = 39\n",
        "\n",
        "print(Nama)\n",
        "print(Usia)\n",
        "print(Tinggi_badan)\n",
        "print(Berat_badan)"
      ],
      "metadata": {
        "colab": {
          "base_uri": "https://localhost:8080/"
        },
        "id": "rINO0-TeWmuS",
        "outputId": "fe21c2fc-61ec-4381-bafb-1c6aba6137a4"
      },
      "execution_count": null,
      "outputs": [
        {
          "output_type": "stream",
          "name": "stdout",
          "text": [
            "Salwa Hanik Isnaini\n",
            "16\n",
            "147\n",
            "39\n"
          ]
        }
      ]
    },
    {
      "cell_type": "markdown",
      "source": [
        "#Menampilkan String dan Nilai Variabel"
      ],
      "metadata": {
        "id": "AEnQ0bV3UB81"
      }
    },
    {
      "cell_type": "code",
      "source": [
        "print(\"Halo nama saya\", Nama, \". Tinnggi badan saya adalah\", Tinggi_badan, \"cm.\")"
      ],
      "metadata": {
        "colab": {
          "base_uri": "https://localhost:8080/"
        },
        "id": "EO_669BdUiML",
        "outputId": "cbd5495c-e778-42fb-bc50-546495e0fae4"
      },
      "execution_count": null,
      "outputs": [
        {
          "output_type": "stream",
          "name": "stdout",
          "text": [
            "Halo nama saya Salwa Hanik Isnaini . Tinnggi badan saya adalah 147 cm.\n"
          ]
        }
      ]
    },
    {
      "cell_type": "code",
      "source": [
        "print(\"Usia saya adalah\", Usia,\"Tahun\")"
      ],
      "metadata": {
        "colab": {
          "base_uri": "https://localhost:8080/"
        },
        "id": "KZ-o89xyVgju",
        "outputId": "b730d39f-58f1-4e56-d138-2170614f7d3e"
      },
      "execution_count": null,
      "outputs": [
        {
          "output_type": "stream",
          "name": "stdout",
          "text": [
            "Usia saya adalah 16 Tahun\n"
          ]
        }
      ]
    },
    {
      "cell_type": "code",
      "source": [
        "print(\"Halo nama saya \"+ Nama+ \". Tinnggi badan saya adalah \"+ str(Tinggi_badan)+ \"cm.\")"
      ],
      "metadata": {
        "colab": {
          "base_uri": "https://localhost:8080/"
        },
        "id": "UgkD5Lfpar7c",
        "outputId": "d45f9e83-f627-4dc9-bbd1-ef67d9956aff"
      },
      "execution_count": null,
      "outputs": [
        {
          "output_type": "stream",
          "name": "stdout",
          "text": [
            "Halo nama saya Salwa Hanik Isnaini. Tinnggi badan saya adalah 147cm.\n"
          ]
        }
      ]
    },
    {
      "cell_type": "code",
      "source": [
        "print(f\"Halo nama saya  {Nama} . Tinnggi badan saya adalah {Tinggi_badan} cm.\")"
      ],
      "metadata": {
        "colab": {
          "base_uri": "https://localhost:8080/"
        },
        "id": "dQBYb2FabJE8",
        "outputId": "381b6fde-ee8b-40e8-9724-97b22327f614"
      },
      "execution_count": null,
      "outputs": [
        {
          "output_type": "stream",
          "name": "stdout",
          "text": [
            "Halo nama saya  Salwa Hanik Isnaini . Tinnggi badan saya adalah 147 cm.\n"
          ]
        }
      ]
    },
    {
      "cell_type": "markdown",
      "source": [
        "#paramenter"
      ],
      "metadata": {
        "id": "tmiCr17oYALG"
      }
    },
    {
      "cell_type": "code",
      "source": [
        "nama_siswa_1 = \"Yapi\"\n",
        "\n",
        "nama_siswa_2 = \"Wahyu\""
      ],
      "metadata": {
        "id": "OTAE3kt8Y4PA"
      },
      "execution_count": null,
      "outputs": []
    },
    {
      "cell_type": "code",
      "source": [
        "print(nama_siswa_1, end=\"&\")\n",
        "print(nama_siswa_2)"
      ],
      "metadata": {
        "colab": {
          "base_uri": "https://localhost:8080/"
        },
        "id": "mKgK7rV6Yi0y",
        "outputId": "476c584b-ea1a-4cbe-8587-bfb38225ab0c"
      },
      "execution_count": null,
      "outputs": [
        {
          "output_type": "stream",
          "name": "stdout",
          "text": [
            "Yapi&Wahyu\n"
          ]
        }
      ]
    },
    {
      "cell_type": "code",
      "source": [
        "print(nama_siswa_1, nama_siswa_2, sep=\"/\")"
      ],
      "metadata": {
        "colab": {
          "base_uri": "https://localhost:8080/"
        },
        "id": "XSfh8yQaZtE3",
        "outputId": "1e0596f6-a887-48ab-81fc-65fc9d415c08"
      },
      "execution_count": null,
      "outputs": [
        {
          "output_type": "stream",
          "name": "stdout",
          "text": [
            "Yapi/Wahyu\n"
          ]
        }
      ]
    },
    {
      "cell_type": "code",
      "source": [
        "nama_siswa_3 = \"Dzakka\"\n",
        "\n",
        "nama_siswa_4 = \"Haika\"\n",
        "\n",
        "nama_siswa_5 = \"Hilma\""
      ],
      "metadata": {
        "id": "N_jIsdouaMcU"
      },
      "execution_count": null,
      "outputs": []
    },
    {
      "cell_type": "code",
      "source": [
        "print(nama_siswa_5, end=\"*\")\n",
        "print(nama_siswa_4, end=\"*\")\n",
        "print(nama_siswa_3, end=\"*\")\n",
        "print(nama_siswa_5)"
      ],
      "metadata": {
        "colab": {
          "base_uri": "https://localhost:8080/"
        },
        "id": "Qc5QiF71c-qW",
        "outputId": "f20e5dc4-87dc-4de8-d162-3e1d83a3cf89"
      },
      "execution_count": null,
      "outputs": [
        {
          "output_type": "stream",
          "name": "stdout",
          "text": [
            "Hilma*Haika*Dzakka*Hilma\n"
          ]
        }
      ]
    }
  ]
}